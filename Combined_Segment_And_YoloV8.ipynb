{
  "cells": [
    {
      "cell_type": "code",
      "execution_count": null,
      "metadata": {
        "colab": {
          "base_uri": "https://localhost:8080/"
        },
        "id": "grULmxelVhf5",
        "outputId": "3e3c6c08-0204-4aae-c0fb-197ae3f32a3e"
      },
      "outputs": [
        {
          "output_type": "stream",
          "name": "stderr",
          "text": [
            "Ultralytics YOLOv8.0.117 🚀 Python-3.10.12 torch-2.0.1+cu118 CUDA:0 (Tesla T4, 15102MiB)\n",
            "Setup complete ✅ (2 CPUs, 12.7 GB RAM, 23.3/78.2 GB disk)\n"
          ]
        }
      ],
      "source": [
        "#Import ultralytics\n",
        "!pip install ultralytics\n",
        "import ultralytics\n",
        "ultralytics.checks()"
      ]
    },
    {
      "cell_type": "code",
      "execution_count": null,
      "metadata": {
        "id": "7s5w4e8igLvA"
      },
      "outputs": [],
      "source": [
        "# Import required libraries\n",
        "import os\n",
        "import shutil\n",
        "import random\n",
        "\n",
        "#!pip install tqdm --upgrade\n",
        "from tqdm.notebook import tqdm"
      ]
    },
    {
      "cell_type": "code",
      "execution_count": null,
      "metadata": {
        "colab": {
          "base_uri": "https://localhost:8080/"
        },
        "id": "C24nycBsg037",
        "outputId": "684ecded-9c8a-4d6f-ccef-13126c4e2ab9"
      },
      "outputs": [
        {
          "output_type": "stream",
          "name": "stdout",
          "text": [
            "Mounted at /content/drive\n"
          ]
        }
      ],
      "source": [
        "# Connect to google drive\n",
        "\n",
        "from google.colab import drive\n",
        "drive.mount('/content/drive')\n"
      ]
    },
    {
      "cell_type": "code",
      "execution_count": null,
      "metadata": {
        "colab": {
          "base_uri": "https://localhost:8080/"
        },
        "id": "iku8ejMyYepg",
        "outputId": "0f8da2ac-69c8-4440-ebfe-80a5d9e089d1"
      },
      "outputs": [
        {
          "output_type": "stream",
          "name": "stdout",
          "text": [
            "<class 'ultralytics.yolo.engine.model.YOLO'>\n"
          ]
        }
      ],
      "source": [
        "#Assign model and test images\n",
        "from ultralytics import YOLO\n",
        "model=YOLO('/content/drive/MyDrive/UU_Thesis/weights/best.pt')\n",
        "source='/content/drive/MyDrive/UU_Thesis/selected_images'\n",
        "print(type(model))"
      ]
    },
    {
      "cell_type": "code",
      "execution_count": null,
      "metadata": {
        "colab": {
          "base_uri": "https://localhost:8080/"
        },
        "id": "2N-BpB2HaqD1",
        "outputId": "e47e430a-c158-4740-f029-9acd6a45cb69"
      },
      "outputs": [
        {
          "output_type": "stream",
          "name": "stderr",
          "text": [
            "\n",
            "image 1/93 /content/drive/MyDrive/UU_Thesis/selected_images/1000.JPG: 640x480 2 Goats, 126.5ms\n",
            "image 2/93 /content/drive/MyDrive/UU_Thesis/selected_images/1003.jpg: 640x480 3 Goats, 28.2ms\n",
            "image 3/93 /content/drive/MyDrive/UU_Thesis/selected_images/1010.JPG: 480x640 5 Goats, 108.2ms\n",
            "image 4/93 /content/drive/MyDrive/UU_Thesis/selected_images/1019.jpg: 480x640 8 Goats, 28.2ms\n",
            "image 5/93 /content/drive/MyDrive/UU_Thesis/selected_images/1047.jpg: 320x640 4 Goats, 113.9ms\n",
            "image 6/93 /content/drive/MyDrive/UU_Thesis/selected_images/1049.jpg: 640x640 5 Goats, 37.9ms\n",
            "image 7/93 /content/drive/MyDrive/UU_Thesis/selected_images/1068.jpg: 352x640 2 Goats, 73.3ms\n",
            "image 8/93 /content/drive/MyDrive/UU_Thesis/selected_images/1084.jpg: 640x480 8 Goats, 28.8ms\n",
            "image 9/93 /content/drive/MyDrive/UU_Thesis/selected_images/1093.jpg: 448x640 5 Goats, 69.2ms\n",
            "image 10/93 /content/drive/MyDrive/UU_Thesis/selected_images/1131.jpg: 640x384 14 Goats, 67.0ms\n",
            "image 11/93 /content/drive/MyDrive/UU_Thesis/selected_images/1138.jpg: 544x640 6 Goats, 68.3ms\n",
            "image 12/93 /content/drive/MyDrive/UU_Thesis/selected_images/1156.jpg: 640x384 2 Goats, 26.2ms\n",
            "image 13/93 /content/drive/MyDrive/UU_Thesis/selected_images/1172.jpg: 544x640 1 Goat, 35.8ms\n",
            "image 14/93 /content/drive/MyDrive/UU_Thesis/selected_images/1177.jpg: 576x640 1 Goat, 70.1ms\n",
            "image 15/93 /content/drive/MyDrive/UU_Thesis/selected_images/1186.jpg: 576x640 1 Goat, 35.6ms\n",
            "image 16/93 /content/drive/MyDrive/UU_Thesis/selected_images/1188.jpg: 416x640 3 Goats, 65.7ms\n",
            "image 17/93 /content/drive/MyDrive/UU_Thesis/selected_images/1197.jpg: 640x640 1 Goat, 37.8ms\n",
            "image 18/93 /content/drive/MyDrive/UU_Thesis/selected_images/1254.jpg: 416x640 3 Goats, 28.4ms\n",
            "image 19/93 /content/drive/MyDrive/UU_Thesis/selected_images/1255.jpg: 512x640 1 Goat, 73.9ms\n",
            "image 20/93 /content/drive/MyDrive/UU_Thesis/selected_images/1263.jpg: 480x640 3 Goats, 29.0ms\n",
            "image 21/93 /content/drive/MyDrive/UU_Thesis/selected_images/1269.jpg: 576x640 1 Goat, 36.7ms\n",
            "image 22/93 /content/drive/MyDrive/UU_Thesis/selected_images/1271.jpg: 384x640 3 Goats, 73.5ms\n",
            "image 23/93 /content/drive/MyDrive/UU_Thesis/selected_images/1293.jpg: 512x640 4 Goats, 29.6ms\n",
            "image 24/93 /content/drive/MyDrive/UU_Thesis/selected_images/1340.jpg: 576x640 2 Goats, 38.5ms\n",
            "image 25/93 /content/drive/MyDrive/UU_Thesis/selected_images/1342.jpg: 416x640 3 Goats, 28.9ms\n",
            "image 26/93 /content/drive/MyDrive/UU_Thesis/selected_images/1414.jpg: 480x640 3 Goats, 29.7ms\n",
            "image 27/93 /content/drive/MyDrive/UU_Thesis/selected_images/1420.jpg: 320x640 4 Goats, 24.5ms\n",
            "image 28/93 /content/drive/MyDrive/UU_Thesis/selected_images/1433.jpg: 640x480 4 Goats, 29.2ms\n",
            "image 29/93 /content/drive/MyDrive/UU_Thesis/selected_images/1455.jpg: 544x640 2 Goats, 36.4ms\n",
            "image 30/93 /content/drive/MyDrive/UU_Thesis/selected_images/1461.jpg: 640x640 2 Goats, 37.8ms\n",
            "image 31/93 /content/drive/MyDrive/UU_Thesis/selected_images/171.jpg: 608x640 7 Goats, 67.9ms\n",
            "image 32/93 /content/drive/MyDrive/UU_Thesis/selected_images/173.JPG: 320x640 7 Goats, 23.4ms\n",
            "image 33/93 /content/drive/MyDrive/UU_Thesis/selected_images/18.jpg: 640x640 1 Goat, 37.8ms\n",
            "image 34/93 /content/drive/MyDrive/UU_Thesis/selected_images/2.jpg: 640x640 4 Goats, 37.0ms\n",
            "image 35/93 /content/drive/MyDrive/UU_Thesis/selected_images/212.jpg: 480x640 2 Goats, 29.1ms\n",
            "image 36/93 /content/drive/MyDrive/UU_Thesis/selected_images/230.jpg: 512x640 6 Goats, 29.4ms\n",
            "image 37/93 /content/drive/MyDrive/UU_Thesis/selected_images/242.jpg: 352x640 6 Goats, 26.1ms\n",
            "image 38/93 /content/drive/MyDrive/UU_Thesis/selected_images/252.jpg: 416x640 4 Goats, 28.8ms\n",
            "image 39/93 /content/drive/MyDrive/UU_Thesis/selected_images/26.jpg: 480x640 15 Goats, 29.0ms\n",
            "image 40/93 /content/drive/MyDrive/UU_Thesis/selected_images/260.jpg: 640x480 2 Goats, 28.9ms\n",
            "image 41/93 /content/drive/MyDrive/UU_Thesis/selected_images/280.jpg: 576x640 2 Goats, 36.1ms\n",
            "image 42/93 /content/drive/MyDrive/UU_Thesis/selected_images/29.JPG: 640x640 6 Goats, 38.0ms\n",
            "image 43/93 /content/drive/MyDrive/UU_Thesis/selected_images/313.jpg: 448x640 4 Goats, 29.0ms\n",
            "image 44/93 /content/drive/MyDrive/UU_Thesis/selected_images/320.jpg: 544x640 2 Goats, 35.9ms\n",
            "image 45/93 /content/drive/MyDrive/UU_Thesis/selected_images/327.jpg: 448x640 5 Goats, 28.7ms\n",
            "image 46/93 /content/drive/MyDrive/UU_Thesis/selected_images/329.jpg: 640x416 3 Goats, 63.8ms\n",
            "image 47/93 /content/drive/MyDrive/UU_Thesis/selected_images/332.jpg: 480x640 9 Goats, 30.2ms\n",
            "image 48/93 /content/drive/MyDrive/UU_Thesis/selected_images/335.jpg: 288x640 4 Goats, 71.7ms\n",
            "image 49/93 /content/drive/MyDrive/UU_Thesis/selected_images/341.jpg: 480x640 5 Goats, 29.5ms\n",
            "image 50/93 /content/drive/MyDrive/UU_Thesis/selected_images/343.jpg: 448x640 2 Goats, 28.9ms\n",
            "image 51/93 /content/drive/MyDrive/UU_Thesis/selected_images/346.jpg: 416x640 9 Goats, 28.8ms\n",
            "image 52/93 /content/drive/MyDrive/UU_Thesis/selected_images/378.jpg: 480x640 4 Goats, 29.4ms\n",
            "image 53/93 /content/drive/MyDrive/UU_Thesis/selected_images/435.jpg: 448x640 5 Goats, 29.1ms\n",
            "image 54/93 /content/drive/MyDrive/UU_Thesis/selected_images/450.jpg: 480x640 9 Goats, 29.6ms\n",
            "image 55/93 /content/drive/MyDrive/UU_Thesis/selected_images/459.jpg: 640x640 3 Goats, 37.7ms\n",
            "image 56/93 /content/drive/MyDrive/UU_Thesis/selected_images/509.jpg: 512x640 1 Goat, 30.6ms\n",
            "image 57/93 /content/drive/MyDrive/UU_Thesis/selected_images/527.jpg: 544x640 5 Goats, 36.1ms\n",
            "image 58/93 /content/drive/MyDrive/UU_Thesis/selected_images/535.jpg: 576x640 2 Goats, 36.5ms\n",
            "image 59/93 /content/drive/MyDrive/UU_Thesis/selected_images/539.jpg: 480x640 2 Goats, 28.9ms\n",
            "image 60/93 /content/drive/MyDrive/UU_Thesis/selected_images/572.jpg: 576x640 8 Goats, 36.3ms\n",
            "image 61/93 /content/drive/MyDrive/UU_Thesis/selected_images/589.jpg: 576x640 2 Goats, 35.6ms\n",
            "image 62/93 /content/drive/MyDrive/UU_Thesis/selected_images/617.JPG: 640x640 2 Goats, 37.9ms\n",
            "image 63/93 /content/drive/MyDrive/UU_Thesis/selected_images/63.jpg: 640x640 3 Goats, 37.0ms\n",
            "image 64/93 /content/drive/MyDrive/UU_Thesis/selected_images/633.jpg: 544x640 5 Goats, 35.9ms\n",
            "image 65/93 /content/drive/MyDrive/UU_Thesis/selected_images/65.jpg: 640x640 1 Goat, 44.9ms\n",
            "image 66/93 /content/drive/MyDrive/UU_Thesis/selected_images/652.jpg: 544x640 6 Goats, 36.5ms\n",
            "image 67/93 /content/drive/MyDrive/UU_Thesis/selected_images/686.jpg: 544x640 2 Goats, 37.6ms\n",
            "image 68/93 /content/drive/MyDrive/UU_Thesis/selected_images/69.JPG: 640x640 1 Goat, 41.1ms\n",
            "image 69/93 /content/drive/MyDrive/UU_Thesis/selected_images/73.jpg: 640x640 6 Goats, 37.1ms\n",
            "image 70/93 /content/drive/MyDrive/UU_Thesis/selected_images/752.jpg: 416x640 8 Goats, 28.9ms\n",
            "image 71/93 /content/drive/MyDrive/UU_Thesis/selected_images/757.jpg: 416x640 3 Goats, 47.5ms\n",
            "image 72/93 /content/drive/MyDrive/UU_Thesis/selected_images/758.jpg: 448x640 2 Goats, 37.7ms\n",
            "image 73/93 /content/drive/MyDrive/UU_Thesis/selected_images/764.jpg: 544x640 3 Goats, 36.5ms\n",
            "image 74/93 /content/drive/MyDrive/UU_Thesis/selected_images/769.jpg: 480x640 3 Goats, 29.4ms\n",
            "image 75/93 /content/drive/MyDrive/UU_Thesis/selected_images/771.jpg: 576x640 2 Goats, 38.3ms\n",
            "image 76/93 /content/drive/MyDrive/UU_Thesis/selected_images/80.jpg: 512x640 3 Goats, 29.6ms\n",
            "image 77/93 /content/drive/MyDrive/UU_Thesis/selected_images/819.jpg: 576x640 2 Goats, 36.7ms\n",
            "image 78/93 /content/drive/MyDrive/UU_Thesis/selected_images/821.JPG: 544x640 6 Goats, 36.3ms\n",
            "image 79/93 /content/drive/MyDrive/UU_Thesis/selected_images/837.jpg: 448x640 4 Goats, 36.3ms\n",
            "image 80/93 /content/drive/MyDrive/UU_Thesis/selected_images/840.jpg: 512x640 1 Goat, 31.6ms\n",
            "image 81/93 /content/drive/MyDrive/UU_Thesis/selected_images/843.jpg: 608x640 10 Goats, 37.8ms\n",
            "image 82/93 /content/drive/MyDrive/UU_Thesis/selected_images/848.JPG: 640x416 2 Goats, 29.8ms\n",
            "image 83/93 /content/drive/MyDrive/UU_Thesis/selected_images/863.jpg: 640x448 1 Goat, 64.2ms\n",
            "image 84/93 /content/drive/MyDrive/UU_Thesis/selected_images/880.jpg: 480x640 3 Goats, 29.0ms\n",
            "image 85/93 /content/drive/MyDrive/UU_Thesis/selected_images/920.jpg: 448x640 6 Goats, 28.7ms\n",
            "image 86/93 /content/drive/MyDrive/UU_Thesis/selected_images/937.jpg: 416x640 1 Goat, 29.0ms\n",
            "image 87/93 /content/drive/MyDrive/UU_Thesis/selected_images/943.jpg: 640x640 2 Goats, 38.3ms\n",
            "image 88/93 /content/drive/MyDrive/UU_Thesis/selected_images/944.jpg: 480x640 16 Goats, 28.9ms\n",
            "image 89/93 /content/drive/MyDrive/UU_Thesis/selected_images/945.jpg: 640x640 7 Goats, 37.8ms\n",
            "image 90/93 /content/drive/MyDrive/UU_Thesis/selected_images/968.jpg: 544x640 2 Goats, 35.9ms\n",
            "image 91/93 /content/drive/MyDrive/UU_Thesis/selected_images/97.jpg: 640x640 2 Goats, 37.8ms\n",
            "image 92/93 /content/drive/MyDrive/UU_Thesis/selected_images/979.jpg: 640x640 2 Goats, 37.0ms\n",
            "image 93/93 /content/drive/MyDrive/UU_Thesis/selected_images/993.jpg: 640x640 (no detections), 37.2ms\n",
            "Speed: 3.2ms preprocess, 40.6ms inference, 2.5ms postprocess per image at shape (1, 3, 640, 640)\n"
          ]
        }
      ],
      "source": [
        "#Predict images\n",
        "results = model(source)"
      ]
    },
    {
      "cell_type": "markdown",
      "metadata": {
        "id": "cSmnG9vQCLOm"
      },
      "source": [
        "# Storing results"
      ]
    },
    {
      "cell_type": "code",
      "execution_count": null,
      "metadata": {
        "id": "nInHL1W5bByV"
      },
      "outputs": [],
      "source": [
        "# Set the directory where the file will be saved\n",
        "directory = \"/content/drive/MyDrive/UU_Thesis/output/boxes\"\n",
        "if not os.path.exists(directory):\n",
        "  os.makedirs(directory)\n",
        "\n",
        "for n, result in enumerate(results):\n",
        "    boxes = str(result.boxes.xywh)     #xyxy format /or xywh format\n",
        "    #print(\"For result \", n, result,\"data =\",boxes)\n",
        "    #print(\"Boxes Conf = \", result.boxes.conf)\n",
        "\n",
        "    #Get image path\n",
        "    path = result.path\n",
        "    filename = path[path.rfind(\"/\") + 1:]\n",
        "\n",
        "    new_extension = '.txt'\n",
        "\n",
        "    if '.' in filename:\n",
        "        # Split the filename into the base name and extension\n",
        "        parts = filename.rsplit('.', 1)\n",
        "\n",
        "        # Replace the extension with the new extension\n",
        "        new_filename = f\"{parts[0]}{new_extension}\"\n",
        "    else:\n",
        "        # If the filename doesn't have an extension, simply append the new extension to the end\n",
        "        new_filename = f\"{filename}{new_extension}\"\n",
        "\n",
        "    #print(new_filename)\n",
        "\n",
        "    # Construct the full path to the new file\n",
        "    new_file_path = os.path.join(directory, new_filename)\n",
        "\n",
        "    # Open the new file for writing\n",
        "    with open(new_file_path, \"w\") as f:\n",
        "        # Write the contents of 'boxes' to the file\n",
        "        f.write(boxes)"
      ]
    },
    {
      "cell_type": "code",
      "execution_count": null,
      "metadata": {
        "id": "wzgmOkeIlm25"
      },
      "outputs": [],
      "source": []
    },
    {
      "cell_type": "markdown",
      "metadata": {
        "id": "XH9ZFlBWoXS8"
      },
      "source": [
        "## Segment Anything"
      ]
    },
    {
      "cell_type": "code",
      "execution_count": null,
      "metadata": {
        "colab": {
          "base_uri": "https://localhost:8080/"
        },
        "id": "Dp0a-5sHoZZD",
        "outputId": "c8b6354b-6842-4eca-8f6f-212fb090c3d7"
      },
      "outputs": [
        {
          "output_type": "stream",
          "name": "stdout",
          "text": [
            "HOME: /content\n",
            "/content\n",
            "Looking in indexes: https://pypi.org/simple, https://us-python.pkg.dev/colab-wheels/public/simple/\n",
            "Collecting git+https://github.com/facebookresearch/segment-anything.git\n",
            "  Cloning https://github.com/facebookresearch/segment-anything.git to /tmp/pip-req-build-l3rgx8ex\n",
            "  Running command git clone --filter=blob:none --quiet https://github.com/facebookresearch/segment-anything.git /tmp/pip-req-build-l3rgx8ex\n",
            "  Resolved https://github.com/facebookresearch/segment-anything.git to commit 6fdee8f2727f4506cfbbe553e23b895e27956588\n",
            "  Preparing metadata (setup.py) ... \u001b[?25l\u001b[?25hdone\n",
            "Building wheels for collected packages: segment-anything\n",
            "  Building wheel for segment-anything (setup.py) ... \u001b[?25l\u001b[?25hdone\n",
            "  Created wheel for segment-anything: filename=segment_anything-1.0-py3-none-any.whl size=36589 sha256=53747b2af9e09e850f080a835fc8339ae3ec772a39e64f99fece5e36283ab3d7\n",
            "  Stored in directory: /tmp/pip-ephem-wheel-cache-6n955yte/wheels/10/cf/59/9ccb2f0a1bcc81d4fbd0e501680b5d088d690c6cfbc02dc99d\n",
            "Successfully built segment-anything\n",
            "Installing collected packages: segment-anything\n",
            "Successfully installed segment-anything-1.0\n",
            "\u001b[2K     \u001b[90m━━━━━━━━━━━━━━━━━━━━━━━━━━━━━━━━━━━━━━\u001b[0m \u001b[32m367.8/367.8 kB\u001b[0m \u001b[31m17.4 MB/s\u001b[0m eta \u001b[36m0:00:00\u001b[0m\n",
            "\u001b[2K     \u001b[90m━━━━━━━━━━━━━━━━━━━━━━━━━━━━━━━━━━━━━━━━\u001b[0m \u001b[32m56.3/56.3 kB\u001b[0m \u001b[31m5.3 MB/s\u001b[0m eta \u001b[36m0:00:00\u001b[0m\n",
            "\u001b[2K     \u001b[90m━━━━━━━━━━━━━━━━━━━━━━━━━━━━━━━━━━━━━━━━\u001b[0m \u001b[32m45.4/45.4 kB\u001b[0m \u001b[31m4.8 MB/s\u001b[0m eta \u001b[36m0:00:00\u001b[0m\n",
            "\u001b[2K     \u001b[90m━━━━━━━━━━━━━━━━━━━━━━━━━━━━━━━━━━━━━━━━\u001b[0m \u001b[32m58.8/58.8 kB\u001b[0m \u001b[31m6.2 MB/s\u001b[0m eta \u001b[36m0:00:00\u001b[0m\n",
            "\u001b[2K     \u001b[90m━━━━━━━━━━━━━━━━━━━━━━━━━━━━━━━━━━━━━━━━\u001b[0m \u001b[32m67.8/67.8 kB\u001b[0m \u001b[31m6.8 MB/s\u001b[0m eta \u001b[36m0:00:00\u001b[0m\n",
            "\u001b[?25h  Preparing metadata (setup.py) ... \u001b[?25l\u001b[?25hdone\n",
            "\u001b[2K     \u001b[90m━━━━━━━━━━━━━━━━━━━━━━━━━━━━━━━━━━━━━━━━\u001b[0m \u001b[32m54.5/54.5 kB\u001b[0m \u001b[31m5.5 MB/s\u001b[0m eta \u001b[36m0:00:00\u001b[0m\n",
            "\u001b[2K     \u001b[90m━━━━━━━━━━━━━━━━━━━━━━━━━━━━━━━━━━━━━━━━\u001b[0m \u001b[32m49.1/49.1 kB\u001b[0m \u001b[31m5.7 MB/s\u001b[0m eta \u001b[36m0:00:00\u001b[0m\n",
            "\u001b[2K     \u001b[90m━━━━━━━━━━━━━━━━━━━━━━━━━━━━━━━━━━━━━━━━\u001b[0m \u001b[32m1.6/1.6 MB\u001b[0m \u001b[31m74.5 MB/s\u001b[0m eta \u001b[36m0:00:00\u001b[0m\n",
            "\u001b[?25h  Building wheel for wget (setup.py) ... \u001b[?25l\u001b[?25hdone\n",
            "/content\n",
            "/content/weights\n",
            "/content/weights/sam_vit_h_4b8939.pth ; exist: True\n",
            "/content\n",
            "/content/data\n"
          ]
        }
      ],
      "source": [
        "import os\n",
        "HOME = os.getcwd()\n",
        "print(\"HOME:\", HOME)\n",
        "\n",
        "%cd {HOME}\n",
        "\n",
        "# Install Segment Anything\n",
        "import sys\n",
        "!{sys.executable} -m pip install 'git+https://github.com/facebookresearch/segment-anything.git'\n",
        "\n",
        "# Install jupyter widget\n",
        "!pip install -q jupyter_bbox_widget roboflow dataclasses-json supervision\n",
        "\n",
        "# Retrieve weights from Meta\n",
        "%cd {HOME}\n",
        "!mkdir {HOME}/weights\n",
        "%cd {HOME}/weights\n",
        "\n",
        "!wget -q https://dl.fbaipublicfiles.com/segment_anything/sam_vit_h_4b8939.pth\n",
        "\n",
        "CHECKPOINT_PATH = os.path.join(HOME, \"weights\", \"sam_vit_h_4b8939.pth\")\n",
        "print(CHECKPOINT_PATH, \"; exist:\", os.path.isfile(CHECKPOINT_PATH))\n",
        "\n",
        "# Create data folder\n",
        "%cd {HOME}\n",
        "!mkdir {HOME}/data\n",
        "%cd {HOME}/data"
      ]
    },
    {
      "cell_type": "markdown",
      "metadata": {
        "id": "rZgM5OAMoef4"
      },
      "source": [
        "Load model"
      ]
    },
    {
      "cell_type": "code",
      "execution_count": null,
      "metadata": {
        "id": "nEQj9A6Boc_A"
      },
      "outputs": [],
      "source": [
        "import torch\n",
        "from segment_anything import sam_model_registry, SamAutomaticMaskGenerator, SamPredictor\n",
        "\n",
        "DEVICE = torch.device('cuda:0' if torch.cuda.is_available() else 'cpu')\n",
        "MODEL_TYPE = \"vit_h\"\n",
        "\n",
        "sam = sam_model_registry[MODEL_TYPE](checkpoint=CHECKPOINT_PATH).to(device=DEVICE)"
      ]
    },
    {
      "cell_type": "markdown",
      "metadata": {
        "id": "aEkNkvKHt6fh"
      },
      "source": [
        "##Loading mask predictor"
      ]
    },
    {
      "cell_type": "code",
      "execution_count": null,
      "metadata": {
        "id": "7J2LTHrauOwK"
      },
      "outputs": [],
      "source": [
        "mask_predictor = SamPredictor(sam)"
      ]
    },
    {
      "cell_type": "markdown",
      "metadata": {
        "id": "pNo3pXiQulNb"
      },
      "source": [
        "##Loading image"
      ]
    },
    {
      "cell_type": "code",
      "execution_count": null,
      "metadata": {
        "id": "50QhzN72jQM6"
      },
      "outputs": [],
      "source": [
        "def yolo_convertor(yolo_tensor):\n",
        "    boxes = []\n",
        "    for box in yolo_tensor:\n",
        "        print(box)  # Add this line to inspect the contents of 'box'\n",
        "        x_center, y_center, width, height, *_ = box  # Use *_ to ignore extra values\n",
        "        x1 = x_center - width / 2\n",
        "        y1 = y_center - height / 2\n",
        "        x2 = x_center + width / 2\n",
        "        y2 = y_center + height / 2\n",
        "        boxes.append([x1, y1, x2, y2])\n",
        "\n",
        "    boxes = np.array(boxes)\n",
        "    return boxes"
      ]
    },
    {
      "cell_type": "code",
      "execution_count": null,
      "metadata": {
        "colab": {
          "base_uri": "https://localhost:8080/"
        },
        "id": "MLosBdX3kaAt",
        "outputId": "77e6434a-818f-4b2f-cf00-4cbe606aaf35"
      },
      "outputs": [
        {
          "output_type": "stream",
          "name": "stdout",
          "text": [
            "Drive already mounted at /content/drive; to attempt to forcibly remount, call drive.mount(\"/content/drive\", force_remount=True).\n"
          ]
        }
      ],
      "source": [
        "import os\n",
        "import cv2\n",
        "import numpy as np\n",
        "import re\n",
        "\n",
        "# Connect to google drive\n",
        "from google.colab import drive\n",
        "drive.mount('/content/drive')\n",
        "\n",
        "path_to_selected_images = \"/content/drive/MyDrive/UU_Thesis/selected_images\"\n",
        "path_to_bounding_boxes = \"/content/drive/MyDrive/UU_Thesis/output/boxes\"\n",
        "\n",
        "def load_images_and_tensors():\n",
        "    image_files = os.listdir(path_to_selected_images)\n",
        "    text_files = os.listdir(path_to_bounding_boxes)\n",
        "\n",
        "    # Select only text files that have a corresponding image file name without checking the extension\n",
        "    text_files = [text_file for text_file in text_files if os.path.splitext(text_file)[0] in image_files]\n",
        "\n",
        "    data = []\n",
        "\n",
        "    for image_file in image_files:\n",
        "        # Load image\n",
        "        image_path = os.path.join(path_to_selected_images, image_file)\n",
        "        image = cv2.imread(image_path)\n",
        "\n",
        "        # Load corresponding text file\n",
        "        text_file = os.path.splitext(image_file)[0] + '.txt'\n",
        "        text_path = os.path.join(path_to_bounding_boxes, text_file)\n",
        "        print(\"text_path:\", text_path)\n",
        "\n",
        "        with open(text_path, 'r') as f:\n",
        "            tensor_str = f.read()\n",
        "            # Remove non-numeric characters and extra spaces\n",
        "            tensor_str = re.sub(r'[^0-9.,\\s]', '', tensor_str).strip()\n",
        "            # Convert string to numpy array\n",
        "            try:\n",
        "              tensor = np.array([list(map(float, line.split(','))) for line in tensor_str.split('\\n') if line.strip()])\n",
        "            except:\n",
        "              continue\n",
        "\n",
        "\n",
        "        data.append({'image': image, 'tensor': tensor, 'image_path': image_path})\n",
        "\n",
        "    return data"
      ]
    },
    {
      "cell_type": "code",
      "execution_count": null,
      "metadata": {
        "colab": {
          "base_uri": "https://localhost:8080/"
        },
        "id": "XFwoJ0ypkbsx",
        "outputId": "1c5e407d-7c25-48f2-f86f-4b6e03678b5b"
      },
      "outputs": [
        {
          "output_type": "stream",
          "name": "stdout",
          "text": [
            "text_path: /content/drive/MyDrive/UU_Thesis/output/boxes/29.txt\n",
            "text_path: /content/drive/MyDrive/UU_Thesis/output/boxes/1177.txt\n",
            "text_path: /content/drive/MyDrive/UU_Thesis/output/boxes/63.txt\n",
            "text_path: /content/drive/MyDrive/UU_Thesis/output/boxes/764.txt\n",
            "text_path: /content/drive/MyDrive/UU_Thesis/output/boxes/1049.txt\n",
            "text_path: /content/drive/MyDrive/UU_Thesis/output/boxes/752.txt\n",
            "text_path: /content/drive/MyDrive/UU_Thesis/output/boxes/968.txt\n",
            "text_path: /content/drive/MyDrive/UU_Thesis/output/boxes/335.txt\n",
            "text_path: /content/drive/MyDrive/UU_Thesis/output/boxes/69.txt\n",
            "text_path: /content/drive/MyDrive/UU_Thesis/output/boxes/863.txt\n",
            "text_path: /content/drive/MyDrive/UU_Thesis/output/boxes/18.txt\n",
            "text_path: /content/drive/MyDrive/UU_Thesis/output/boxes/1414.txt\n",
            "text_path: /content/drive/MyDrive/UU_Thesis/output/boxes/652.txt\n",
            "text_path: /content/drive/MyDrive/UU_Thesis/output/boxes/1003.txt\n",
            "text_path: /content/drive/MyDrive/UU_Thesis/output/boxes/509.txt\n",
            "text_path: /content/drive/MyDrive/UU_Thesis/output/boxes/97.txt\n",
            "text_path: /content/drive/MyDrive/UU_Thesis/output/boxes/1019.txt\n",
            "text_path: /content/drive/MyDrive/UU_Thesis/output/boxes/1186.txt\n",
            "text_path: /content/drive/MyDrive/UU_Thesis/output/boxes/73.txt\n",
            "text_path: /content/drive/MyDrive/UU_Thesis/output/boxes/589.txt\n",
            "text_path: /content/drive/MyDrive/UU_Thesis/output/boxes/230.txt\n",
            "text_path: /content/drive/MyDrive/UU_Thesis/output/boxes/450.txt\n",
            "text_path: /content/drive/MyDrive/UU_Thesis/output/boxes/327.txt\n",
            "text_path: /content/drive/MyDrive/UU_Thesis/output/boxes/837.txt\n",
            "text_path: /content/drive/MyDrive/UU_Thesis/output/boxes/212.txt\n",
            "text_path: /content/drive/MyDrive/UU_Thesis/output/boxes/1010.txt\n",
            "text_path: /content/drive/MyDrive/UU_Thesis/output/boxes/1068.txt\n",
            "text_path: /content/drive/MyDrive/UU_Thesis/output/boxes/920.txt\n",
            "text_path: /content/drive/MyDrive/UU_Thesis/output/boxes/1420.txt\n",
            "text_path: /content/drive/MyDrive/UU_Thesis/output/boxes/539.txt\n",
            "text_path: /content/drive/MyDrive/UU_Thesis/output/boxes/821.txt\n",
            "text_path: /content/drive/MyDrive/UU_Thesis/output/boxes/26.txt\n",
            "text_path: /content/drive/MyDrive/UU_Thesis/output/boxes/757.txt\n",
            "text_path: /content/drive/MyDrive/UU_Thesis/output/boxes/1271.txt\n",
            "text_path: /content/drive/MyDrive/UU_Thesis/output/boxes/1197.txt\n",
            "text_path: /content/drive/MyDrive/UU_Thesis/output/boxes/341.txt\n",
            "text_path: /content/drive/MyDrive/UU_Thesis/output/boxes/1138.txt\n",
            "text_path: /content/drive/MyDrive/UU_Thesis/output/boxes/1093.txt\n",
            "text_path: /content/drive/MyDrive/UU_Thesis/output/boxes/1455.txt\n",
            "text_path: /content/drive/MyDrive/UU_Thesis/output/boxes/1156.txt\n",
            "text_path: /content/drive/MyDrive/UU_Thesis/output/boxes/313.txt\n",
            "text_path: /content/drive/MyDrive/UU_Thesis/output/boxes/771.txt\n",
            "text_path: /content/drive/MyDrive/UU_Thesis/output/boxes/320.txt\n",
            "text_path: /content/drive/MyDrive/UU_Thesis/output/boxes/280.txt\n",
            "text_path: /content/drive/MyDrive/UU_Thesis/output/boxes/943.txt\n",
            "text_path: /content/drive/MyDrive/UU_Thesis/output/boxes/2.txt\n",
            "text_path: /content/drive/MyDrive/UU_Thesis/output/boxes/1433.txt\n",
            "text_path: /content/drive/MyDrive/UU_Thesis/output/boxes/979.txt\n",
            "text_path: /content/drive/MyDrive/UU_Thesis/output/boxes/819.txt\n",
            "text_path: /content/drive/MyDrive/UU_Thesis/output/boxes/65.txt\n",
            "text_path: /content/drive/MyDrive/UU_Thesis/output/boxes/1293.txt\n",
            "text_path: /content/drive/MyDrive/UU_Thesis/output/boxes/80.txt\n",
            "text_path: /content/drive/MyDrive/UU_Thesis/output/boxes/252.txt\n",
            "text_path: /content/drive/MyDrive/UU_Thesis/output/boxes/1172.txt\n",
            "text_path: /content/drive/MyDrive/UU_Thesis/output/boxes/1084.txt\n",
            "text_path: /content/drive/MyDrive/UU_Thesis/output/boxes/880.txt\n",
            "text_path: /content/drive/MyDrive/UU_Thesis/output/boxes/1255.txt\n",
            "text_path: /content/drive/MyDrive/UU_Thesis/output/boxes/1263.txt\n",
            "text_path: /content/drive/MyDrive/UU_Thesis/output/boxes/260.txt\n",
            "text_path: /content/drive/MyDrive/UU_Thesis/output/boxes/527.txt\n",
            "text_path: /content/drive/MyDrive/UU_Thesis/output/boxes/843.txt\n",
            "text_path: /content/drive/MyDrive/UU_Thesis/output/boxes/173.txt\n",
            "text_path: /content/drive/MyDrive/UU_Thesis/output/boxes/332.txt\n",
            "text_path: /content/drive/MyDrive/UU_Thesis/output/boxes/937.txt\n",
            "text_path: /content/drive/MyDrive/UU_Thesis/output/boxes/1342.txt\n",
            "text_path: /content/drive/MyDrive/UU_Thesis/output/boxes/1131.txt\n",
            "text_path: /content/drive/MyDrive/UU_Thesis/output/boxes/1188.txt\n",
            "text_path: /content/drive/MyDrive/UU_Thesis/output/boxes/769.txt\n",
            "text_path: /content/drive/MyDrive/UU_Thesis/output/boxes/171.txt\n",
            "text_path: /content/drive/MyDrive/UU_Thesis/output/boxes/378.txt\n",
            "text_path: /content/drive/MyDrive/UU_Thesis/output/boxes/1254.txt\n",
            "text_path: /content/drive/MyDrive/UU_Thesis/output/boxes/343.txt\n",
            "text_path: /content/drive/MyDrive/UU_Thesis/output/boxes/848.txt\n",
            "text_path: /content/drive/MyDrive/UU_Thesis/output/boxes/1269.txt\n",
            "text_path: /content/drive/MyDrive/UU_Thesis/output/boxes/459.txt\n",
            "text_path: /content/drive/MyDrive/UU_Thesis/output/boxes/993.txt\n",
            "text_path: /content/drive/MyDrive/UU_Thesis/output/boxes/945.txt\n",
            "text_path: /content/drive/MyDrive/UU_Thesis/output/boxes/840.txt\n",
            "text_path: /content/drive/MyDrive/UU_Thesis/output/boxes/572.txt\n",
            "text_path: /content/drive/MyDrive/UU_Thesis/output/boxes/686.txt\n",
            "text_path: /content/drive/MyDrive/UU_Thesis/output/boxes/535.txt\n",
            "text_path: /content/drive/MyDrive/UU_Thesis/output/boxes/758.txt\n",
            "text_path: /content/drive/MyDrive/UU_Thesis/output/boxes/242.txt\n",
            "text_path: /content/drive/MyDrive/UU_Thesis/output/boxes/435.txt\n",
            "text_path: /content/drive/MyDrive/UU_Thesis/output/boxes/1047.txt\n",
            "text_path: /content/drive/MyDrive/UU_Thesis/output/boxes/944.txt\n",
            "text_path: /content/drive/MyDrive/UU_Thesis/output/boxes/617.txt\n",
            "text_path: /content/drive/MyDrive/UU_Thesis/output/boxes/1000.txt\n",
            "text_path: /content/drive/MyDrive/UU_Thesis/output/boxes/1340.txt\n",
            "text_path: /content/drive/MyDrive/UU_Thesis/output/boxes/346.txt\n",
            "text_path: /content/drive/MyDrive/UU_Thesis/output/boxes/1461.txt\n",
            "text_path: /content/drive/MyDrive/UU_Thesis/output/boxes/329.txt\n",
            "text_path: /content/drive/MyDrive/UU_Thesis/output/boxes/633.txt\n",
            "[     619.32      791.53      1170.3      998.75           0]\n"
          ]
        },
        {
          "output_type": "execute_result",
          "data": {
            "text/plain": [
              "array([     34.177,      292.16,      1204.5,      1290.9])"
            ]
          },
          "metadata": {},
          "execution_count": 24
        }
      ],
      "source": [
        "yolo_test_data = load_images_and_tensors()\n",
        "yolo_convertor(yolo_test_data[2]['tensor'])[0]"
      ]
    },
    {
      "cell_type": "code",
      "source": [
        "len(yolo_test_data\n",
        "  )"
      ],
      "metadata": {
        "colab": {
          "base_uri": "https://localhost:8080/"
        },
        "id": "1LakKn41cGGu",
        "outputId": "1a7263ea-4767-4530-d395-218ddbebaf07"
      },
      "execution_count": null,
      "outputs": [
        {
          "output_type": "execute_result",
          "data": {
            "text/plain": [
              "13"
            ]
          },
          "metadata": {},
          "execution_count": 25
        }
      ]
    },
    {
      "cell_type": "code",
      "source": [
        "import cv2\n",
        "import numpy as np\n",
        "from PIL import Image\n",
        "import matplotlib.pyplot as plt\n",
        "\n",
        "def seperate(detections, image_bgr, image):\n",
        "\n",
        "  # Get the mask\n",
        "  mask = detections.mask\n",
        "  # Squeeze any singleton dimensions (if there's only one mask)\n",
        "  mask = np.squeeze(mask)\n",
        "\n",
        "  # Ensure the mask is a boolean mask\n",
        "  mask = mask.astype(bool)\n",
        "\n",
        "  # Create a new image with 4 channels (RGB + alpha)\n",
        "  cutout = np.zeros((image_bgr.shape[0], image_bgr.shape[1], 4), dtype=np.uint8)\n",
        "\n",
        "  # Set RGB values\n",
        "  cutout[..., :3] = image_bgr\n",
        "\n",
        "  # Set alpha channel\n",
        "  cutout[..., 3] = mask.astype(np.uint8) * 255  # Set alpha to 255 for non-transparent regions\n",
        "\n",
        "  # Convert the image from BGR to RGBA\n",
        "  cutout_rgba = cv2.cvtColor(cutout, cv2.COLOR_BGRA2RGBA)\n",
        "\n",
        "  # Save the image with transparency to a file (e.g., PNG)\n",
        "  output_file = 'output.png'\n",
        "  img = Image.fromarray(cutout_rgba)\n",
        "\n",
        "  # Save image to google drive\n",
        "\n",
        "  image_path = \"/content/drive/MyDrive/UU_Thesis/segmented_images/CutOut\"\n",
        "  filename = os.path.basename(image['image_path'])\n",
        "  output_path = os.path.join(image_path, filename)\n",
        "  # Remove existing file if it exists within the target directory\n",
        "  if os.path.exists(output_path) and os.path.isfile(output_path) and 'Thesis' in os.path.dirname(output_path):\n",
        "      os.remove(output_path)\n",
        "\n",
        "  img.save(output_path, \"PNG\")\n",
        "  # return"
      ],
      "metadata": {
        "id": "p2k3H0cJCdb1"
      },
      "execution_count": null,
      "outputs": []
    },
    {
      "cell_type": "code",
      "source": [
        "import supervision as sv"
      ],
      "metadata": {
        "id": "punm0uO_KaqB"
      },
      "execution_count": null,
      "outputs": []
    },
    {
      "cell_type": "code",
      "execution_count": null,
      "metadata": {
        "id": "IKfj-qwZm1ae",
        "colab": {
          "base_uri": "https://localhost:8080/",
          "height": 256
        },
        "outputId": "49eee357-8cd5-4ef9-ead1-0b1239a5efc9"
      },
      "outputs": [
        {
          "output_type": "stream",
          "name": "stdout",
          "text": [
            "[     224.37      188.22      442.04      376.44           0]\n",
            "[     165.93      160.21      184.07      208.88           0]\n",
            "[     619.32      791.53      1170.3      998.75           0]\n",
            "[      150.4      148.32      289.11      296.52           0]\n",
            "[     339.99      242.16      284.69      307.47           0]\n",
            "[     327.32      279.93      641.77         533           0]\n",
            "[     497.08      618.56       529.5      588.38           0]\n",
            "[      170.7      151.94      238.31       295.2           0]\n",
            "[     324.22      315.68      516.72      604.92           0]\n",
            "[     537.97      667.16      529.68      583.32           0]\n",
            "[     531.94      425.76      146.39       155.8           0]\n",
            "[     960.82      808.96      1802.1      1524.4           0]\n",
            "[     827.84      591.55      1282.3      1149.6           0]\n"
          ]
        }
      ],
      "source": [
        "#1\n",
        "import numpy as np\n",
        "import cv2\n",
        "import supervision as sv\n",
        "from jupyter_bbox_widget import BBoxWidget\n",
        "widget = BBoxWidget()\n",
        "\n",
        "# default_box is going to be used if you will not draw any box on image above\n",
        "default_box = {'x': 68, 'y': 247, 'width': 555, 'height': 678, 'label': ''}\n",
        "\n",
        "for image in yolo_test_data:\n",
        "    box = widget.bboxes[0] if widget.bboxes else default_box\n",
        "    box = yolo_convertor(image['tensor'])[0]\n",
        "\n",
        "    image_bgr = cv2.imread(image['image_path'])\n",
        "    image_rgb = cv2.cvtColor(image_bgr, cv2.COLOR_BGR2RGB)\n",
        "\n",
        "    mask_predictor.set_image(image_rgb)\n",
        "\n",
        "    masks, scores, logits = mask_predictor.predict(\n",
        "        box=box,\n",
        "        multimask_output=True\n",
        "    )\n",
        "\n",
        "\n",
        "    #box_annotator = sv.BoxAnnotator() #color=sv.Color.red()\n",
        "    mask_annotator = sv.MaskAnnotator(color=sv.Color(0,0,0)) #color=sv.Color.red()\n",
        "\n",
        "    detections = sv.Detections(\n",
        "        xyxy=sv.mask_to_xyxy(masks=masks),\n",
        "        mask=masks\n",
        "    )\n",
        "    #print(detections)\n",
        "    #with open('readmeDetection123.txt', 'w') as f:\n",
        "    #    f.writelines(detections)\n",
        "    detections = detections[detections.area == np.max(detections.area)]\n",
        "\n",
        "    #source_image = box_annotator.annotate(scene=image_bgr.copy(), detections=detections2, skip_label=True)\n",
        "    segmented_image = mask_annotator.annotate(scene=image_bgr.copy(), detections=detections)\n",
        "\n",
        "    seperate(detections, image_bgr, image)\n",
        "\n",
        "    # Save image to google drive\n",
        "    cv2.imwrite(os.path.join(\"/content/drive/MyDrive/UU_Thesis/segmented_images\", os.path.basename(image['image_path'])), segmented_image) #segmented_image\n"
      ]
    }
  ],
  "metadata": {
    "accelerator": "GPU",
    "colab": {
      "provenance": [],
      "gpuType": "T4"
    },
    "kernelspec": {
      "display_name": "Python 3",
      "name": "python3"
    },
    "language_info": {
      "codemirror_mode": {
        "name": "ipython",
        "version": 3
      },
      "file_extension": ".py",
      "mimetype": "text/x-python",
      "name": "python",
      "nbconvert_exporter": "python",
      "pygments_lexer": "ipython3",
      "version": "3.7.6"
    }
  },
  "nbformat": 4,
  "nbformat_minor": 0
}